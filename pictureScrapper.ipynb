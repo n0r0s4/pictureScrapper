{
 "cells": [
  {
   "cell_type": "code",
   "execution_count": 1,
   "id": "a060a69c-9a60-4bdb-bb0f-9885dd6a0c59",
   "metadata": {},
   "outputs": [],
   "source": [
    "import requests\n",
    "from time import sleep, strftime\n",
    "import random\n",
    "from random import randint\n",
    "from bs4 import BeautifulSoup\n",
    "from selenium import webdriver\n",
    "import shutil\n",
    "import pickle\n",
    "import os\n",
    "import pandas as pd"
   ]
  },
  {
   "cell_type": "code",
   "execution_count": 2,
   "id": "ca4052bf-8962-4e45-82e4-c8097b9519dc",
   "metadata": {},
   "outputs": [],
   "source": [
    "def wait():\n",
    "    sleep(randint(2,5))\n",
    "#testing\n",
    "chrome_driver = r\"chromedriver.exe\"\n",
    "navegador = webdriver.Chrome(executable_path=chrome_driver)\n",
    "navegador.get(\"https://todocuadros.es\") \n",
    "wait()"
   ]
  },
  {
   "cell_type": "code",
   "execution_count": 4,
   "id": "e8d9f84b-88a6-4de1-a42f-0c18b17c7939",
   "metadata": {},
   "outputs": [
    {
     "name": "stdout",
     "output_type": "stream",
     "text": [
      "[<div class=\"item-relacionado\">Autor: <a href=\"/pintores-famosos/monet/\" id=\"relac-monet\">Claude Monet</a></div>, <div class=\"item-relacionado\">Estilo: <a href=\"/estilos-arte/impresionismo/\" id=\"relac-impres\">Impresionismo</a></div>, <div class=\"item-relacionado\">Tema: Naturaleza</div>, <div class=\"item-relacionado\">Título (inglés): <em>The Artist's Garden at Vétheuil</em></div>, <div class=\"item-relacionado\">Tipo: Cuadro</div>, <div class=\"item-relacionado\">Técnica: Óleo</div>, <div class=\"item-relacionado\">Soporte: Lienzo</div>, <div class=\"item-relacionado\">Año: 1880</div>, <div class=\"item-relacionado\">Se encuentra en: Galería Nacional de Arte, Washington</div>]\n",
      "[<div class=\"item-relacionado\">Autor: <a href=\"/pintores-famosos/monet/\" id=\"relac-monet\">Claude Monet</a></div>, <div class=\"item-relacionado\">Estilo: <a href=\"/estilos-arte/impresionismo/\" id=\"relac-impres\">Impresionismo</a></div>, <div class=\"item-relacionado\">Título original: <em>Charing Cross Bridge</em></div>, <div class=\"item-relacionado\">Tipo: Cuadro</div>, <div class=\"item-relacionado\">Técnica: Óleo</div>, <div class=\"item-relacionado\">Soporte: Lienzo</div>, <div class=\"item-relacionado\">Año: 1899</div>, <div class=\"item-relacionado\">Se encuentra en: <a href=\"/museos/thyssen/\">Museo Thyssen-Bornemisza</a>, Madrid</div>]\n"
     ]
    }
   ],
   "source": [
    "#script begins\n",
    "def wait():\n",
    "    sleep(randint(2,5))\n",
    "\n",
    "#dataframe without columns, columns will be filled by html attributes on website\n",
    "df=pd.DataFrame()\n",
    "chrome_driver = r\"chromedriver.exe\"\n",
    "navegador = webdriver.Chrome(executable_path=chrome_driver)\n",
    "navegador.get(\"https://todocuadros.es\") \n",
    "wait()\n",
    "pintores=[\"Monet\"]#,\"Rembrandt\", \"Rafael\", \"Cezanne\", \"Van Gogh\"]\n",
    "ncuadros=2\n",
    "crear=False\n",
    "\n",
    "for pintor in pintores: \n",
    "    crear=True\n",
    "    busq = navegador.find_element_by_id(\"search\")\n",
    "    busq.clear()\n",
    "    busq.send_keys(pintor)\n",
    "    wait()\n",
    "    busq.submit()\n",
    "    soup = BeautifulSoup(navegador.page_source)\n",
    "    soup.find_all(\"span\", class_=\"snize-overhidden\")[0].find(\"span\").text\n",
    "    cuad=[]\n",
    "    #bucle para coger nombres de los cuadros, se da permiso a crear carpeta\n",
    "    for i in range(ncuadros):\n",
    "        #título\n",
    "        cuad.append(soup.find_all(\"span\", class_=\"snize-overhidden\")[i].find(\"span\").text)\n",
    "    #bucle para descargarse las imágenes de los cuadros al final se quita permiso a creardir\n",
    "    for i in range(ncuadros):\n",
    "        wait()\n",
    "        navegador.find_element_by_partial_link_text(cuad[-i]).click()\n",
    "        pic={}\n",
    "        im=str(pintor)+'/'+str(pintor)+str(-i)\n",
    "        pic[\"Path\"]=im\n",
    "        wait()\n",
    "        soup = BeautifulSoup(navegador.page_source)\n",
    "        #aquí coge las variables\n",
    "        items=soup.find_all(\"div\", class_=\"item-relacionado\")\n",
    "        print(items)\n",
    "        pic={}\n",
    "        for item in items:\n",
    "            pic[item.text.split(\":\")[0]]=item.text.split(\":\")[1]\n",
    "        img_cuadro = soup.find(\"div\", class_=\"magic-slide mt-active\").find(\"a\")[\"href\"]\n",
    "        wait()\n",
    "        resp = requests.get(img_cuadro, stream=True)\n",
    "        if(crear):\n",
    "            os.mkdir(pintor)        \n",
    "        df=df.append(pic, ignore_index=True)\n",
    "        #archivo/ruta\n",
    "        imagenpintor = open(im+'.jpg', 'wb')\n",
    "        resp.raw.decode_content = True\n",
    "        shutil.copyfileobj(resp.raw, imagenpintor)\n",
    "        imagenpintor.close()\n",
    "        navegador.execute_script(\"window.history.go(-1)\")\n",
    "        crear=False"
   ]
  },
  {
   "cell_type": "code",
   "execution_count": 5,
   "id": "57dfc04f-804a-436d-9761-d43ceed477d0",
   "metadata": {},
   "outputs": [
    {
     "data": {
      "text/html": [
       "<div>\n",
       "<style scoped>\n",
       "    .dataframe tbody tr th:only-of-type {\n",
       "        vertical-align: middle;\n",
       "    }\n",
       "\n",
       "    .dataframe tbody tr th {\n",
       "        vertical-align: top;\n",
       "    }\n",
       "\n",
       "    .dataframe thead th {\n",
       "        text-align: right;\n",
       "    }\n",
       "</style>\n",
       "<table border=\"1\" class=\"dataframe\">\n",
       "  <thead>\n",
       "    <tr style=\"text-align: right;\">\n",
       "      <th></th>\n",
       "      <th>Autor</th>\n",
       "      <th>Año</th>\n",
       "      <th>Estilo</th>\n",
       "      <th>Se encuentra en</th>\n",
       "      <th>Soporte</th>\n",
       "      <th>Tema</th>\n",
       "      <th>Tipo</th>\n",
       "      <th>Técnica</th>\n",
       "      <th>Título (inglés)</th>\n",
       "      <th>Título original</th>\n",
       "    </tr>\n",
       "  </thead>\n",
       "  <tbody>\n",
       "    <tr>\n",
       "      <th>0</th>\n",
       "      <td>Claude Monet</td>\n",
       "      <td>1880</td>\n",
       "      <td>Impresionismo</td>\n",
       "      <td>Galería Nacional de Arte, Washington</td>\n",
       "      <td>Lienzo</td>\n",
       "      <td>Naturaleza</td>\n",
       "      <td>Cuadro</td>\n",
       "      <td>Óleo</td>\n",
       "      <td>The Artist's Garden at Vétheuil</td>\n",
       "      <td>NaN</td>\n",
       "    </tr>\n",
       "    <tr>\n",
       "      <th>1</th>\n",
       "      <td>Claude Monet</td>\n",
       "      <td>1899</td>\n",
       "      <td>Impresionismo</td>\n",
       "      <td>Museo Thyssen-Bornemisza, Madrid</td>\n",
       "      <td>Lienzo</td>\n",
       "      <td>NaN</td>\n",
       "      <td>Cuadro</td>\n",
       "      <td>Óleo</td>\n",
       "      <td>NaN</td>\n",
       "      <td>Charing Cross Bridge</td>\n",
       "    </tr>\n",
       "  </tbody>\n",
       "</table>\n",
       "</div>"
      ],
      "text/plain": [
       "           Autor    Año          Estilo  \\\n",
       "0   Claude Monet   1880   Impresionismo   \n",
       "1   Claude Monet   1899   Impresionismo   \n",
       "\n",
       "                         Se encuentra en  Soporte         Tema     Tipo  \\\n",
       "0   Galería Nacional de Arte, Washington   Lienzo   Naturaleza   Cuadro   \n",
       "1       Museo Thyssen-Bornemisza, Madrid   Lienzo          NaN   Cuadro   \n",
       "\n",
       "  Técnica                   Título (inglés)        Título original  \n",
       "0    Óleo   The Artist's Garden at Vétheuil                    NaN  \n",
       "1    Óleo                               NaN   Charing Cross Bridge  "
      ]
     },
     "execution_count": 5,
     "metadata": {},
     "output_type": "execute_result"
    }
   ],
   "source": [
    "df.head(2)"
   ]
  },
  {
   "cell_type": "code",
   "execution_count": 9,
   "id": "53aaaf0d-ee55-4b88-80db-be8135edcbb0",
   "metadata": {},
   "outputs": [],
   "source": []
  },
  {
   "cell_type": "code",
   "execution_count": null,
   "id": "a3ca17c6-86fa-41f6-9d2e-1d28c790d059",
   "metadata": {},
   "outputs": [],
   "source": []
  }
 ],
 "metadata": {
  "kernelspec": {
   "display_name": "Python 3",
   "language": "python",
   "name": "python3"
  },
  "language_info": {
   "codemirror_mode": {
    "name": "ipython",
    "version": 3
   },
   "file_extension": ".py",
   "mimetype": "text/x-python",
   "name": "python",
   "nbconvert_exporter": "python",
   "pygments_lexer": "ipython3",
   "version": "3.8.8"
  }
 },
 "nbformat": 4,
 "nbformat_minor": 5
}
